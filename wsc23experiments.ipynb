{
 "cells": [
  {
   "cell_type": "code",
   "execution_count": 1,
   "metadata": {},
   "outputs": [],
   "source": [
    "from math import log\n",
    "from math import exp\n",
    "import math\n",
    "import numpy as np\n",
    "import random\n",
    "from numpy.linalg import inv\n",
    "from scipy.stats import t\n",
    "from scipy.stats import lognorm\n",
    "import itertools\n",
    "import time\n",
    "from scipy.stats import chi2\n",
    "from scipy.stats import gamma\n",
    "from random import choices"
   ]
  },
  {
   "cell_type": "code",
   "execution_count": 2,
   "metadata": {},
   "outputs": [],
   "source": [
    "def psi(X):\n",
    "    return np.quantile(X,q)"
   ]
  },
  {
   "cell_type": "code",
   "execution_count": 5,
   "metadata": {},
   "outputs": [
    {
     "name": "stderr",
     "output_type": "stream",
     "text": [
      "100%|██████████| 100000/100000 [13:41<00:00, 121.77it/s]\n"
     ]
    },
    {
     "name": "stdout",
     "output_type": "stream",
     "text": [
      "[89944, 89933, 90463, 89415, 90665, 0.07784539945388505, 0.07782454787177893, 0.08167820781222913, 0.07849141553761438, 0.08600179364350968]\n",
      "coverage uncertainty\n",
      "[0.0018640381757738759, 0.001864943358672751, 0.0018205283892457152, 0.0019068068041728818, 0.0018031550206346657]\n",
      "half-length uncertainty\n",
      "[0.00015757292155523233, 0.00015882852826841197, 0.00017957654710070909, 0.00017182855599949577, 0.00020812969891719735]\n"
     ]
    },
    {
     "name": "stderr",
     "output_type": "stream",
     "text": [
      "100%|██████████| 100000/100000 [27:13<00:00, 61.20it/s]\n"
     ]
    },
    {
     "name": "stdout",
     "output_type": "stream",
     "text": [
      "[90010, 89887, 91087, 89615, 90315, 0.07127587049843814, 0.07140976551398671, 0.07622396308509556, 0.07199273737520286, 0.08001464005893394]\n",
      "coverage uncertainty\n",
      "[0.0018585925685421212, 0.0018687212233529113, 0.0017660224654657145, 0.0018908177751544432, 0.001833098605432888]\n",
      "half-length uncertainty\n",
      "[9.752373419950464e-05, 9.989836075235207e-05, 0.0001217229813680813, 0.00011053698811109768, 0.00017397369130318406]\n"
     ]
    },
    {
     "name": "stderr",
     "output_type": "stream",
     "text": [
      "100%|██████████| 100000/100000 [38:53<00:00, 42.85it/s]\n"
     ]
    },
    {
     "name": "stdout",
     "output_type": "stream",
     "text": [
      "[90064, 90021, 91281, 89892, 90307, 0.06979164039007953, 0.06994194850573565, 0.07459758159599508, 0.07057082125774479, 0.0791986352691488]\n",
      "coverage uncertainty\n",
      "[0.0018541184624522777, 0.0018576825395783857, 0.0017485562376493354, 0.0018683111666897452, 0.0018337743146422348]\n",
      "half-length uncertainty\n",
      "[7.982337849507255e-05, 8.249948371969204e-05, 0.0001036468061150583, 9.382455087004606e-05, 0.00016997567352513342]\n"
     ]
    }
   ],
   "source": [
    "q = 0.7 # target quantile in psi\n",
    "n_sim = 100000\n",
    "N = 3000\n",
    "# number of computations for psi (for batching with equal or unequal batch sizes, K is #batches, \n",
    "# for other methods, K is #batches + 1)\n",
    "K_list = [6, 12, 17] \n",
    "gm_list = [0.3]\n",
    "values = [[2.252],[2.063],[2.041]] \n",
    "result = []\n",
    "for K_idx in range(len(K_list)):\n",
    "    result_K = []\n",
    "    for gm_idx in range(len(gm_list)):\n",
    "        K = K_list[K_idx]\n",
    "        gm = gm_list[gm_idx]\n",
    "        c_value = values[K_idx][gm_idx]\n",
    "        gamma = np.array(list(range(K))) + 1\n",
    "        gamma = gamma/np.sum(gamma)\n",
    "        t_quantile = t.ppf(0.95,K-1)\n",
    "\n",
    "        ct1 = 0\n",
    "        ct2 = 0\n",
    "        ct3 = 0\n",
    "        ct4 = 0\n",
    "        ct5 = 0\n",
    "        hl1_list = []\n",
    "        hl2_list = []\n",
    "        hl3_list = []\n",
    "        hl4_list = []\n",
    "        hl5_list = []\n",
    "\n",
    "        trueth = lognorm.ppf(q, 1)\n",
    "\n",
    "        gm = 0.3\n",
    "        gm_vec = gm*np.ones((K,))\n",
    "        beta_mtx = np.zeros((K,K))\n",
    "        for i in range(1,K):\n",
    "            for j in range(1,K):\n",
    "                beta_mtx[i,j] = max(0,(gm - np.abs(i-j)*(1-gm)/(K-2)))\n",
    "        V = np.zeros((K,K))\n",
    "        for i in range(1,K):\n",
    "            for j in range(1,K):\n",
    "                if i==j:\n",
    "                    V[i,j] = 1 / gm\n",
    "                else:\n",
    "                    V[i,j] = beta_mtx[i,j]/(gm**2)\n",
    "        V[0,0] = 1\n",
    "        for i in range(1,K):\n",
    "            V[i,0] = 1\n",
    "            V[0,i] = 1\n",
    "\n",
    "        V_inv  = np.linalg.inv(V)\n",
    "        lm = np.sum(V_inv)\n",
    "        start = time.time()\n",
    "        from tqdm import tqdm\n",
    "        for i in tqdm(range(n_sim)):\n",
    "            X = np.random.lognormal(size = (N,))\n",
    "\n",
    "            # batching\n",
    "            Y = np.zeros((K,))\n",
    "            for k in range(K):\n",
    "                Y[k] = psi(X[(k*(N//K)):((k+1)*(N//K))])\n",
    "            pt1 = np.average(Y)\n",
    "            hl1 = t_quantile * np.std(Y,ddof=1) / np.sqrt(K)\n",
    "            if np.abs(trueth-pt1) < hl1:\n",
    "                ct1 += 1\n",
    "            hl1_list.append(hl1)\n",
    "\n",
    "            # batching with unequal length\n",
    "            Y = np.zeros((K,))\n",
    "            data_used = 0\n",
    "            for k in range(K):\n",
    "                Y[k] = psi(X[data_used:(data_used + int(N*gamma[k]))])\n",
    "                data_used += int(N*gamma[k])\n",
    "\n",
    "            pt2 = np.inner(gamma, Y)\n",
    "            S = np.sqrt(np.inner(gamma, np.power(Y - pt2, 2)))\n",
    "            hl2 = t_quantile * S / np.sqrt(K - 1)\n",
    "            if np.abs(trueth-pt2) < hl2:\n",
    "                ct2 += 1\n",
    "            hl2_list.append(hl2)     \n",
    "\n",
    "\n",
    "            # overlapping batching\n",
    "            Y = np.zeros((K,))\n",
    "            Y[0] = psi(X)\n",
    "            for k in range(1,K):\n",
    "                Y[k] = psi(X[int((k-1)*(N*(1-gm)/(K-2))) : int(((k-1)*(N*(1-gm)/(K-2)) + gm*N))])\n",
    "            pt3 = np.sum(V_inv.dot(Y.reshape(-1,1)))/lm\n",
    "            S = np.sqrt(1/lm*(Y-pt3).reshape(1,-1).dot(V_inv.dot((Y-pt3).reshape(-1,1))))\n",
    "            hl3 = t_quantile * S / np.sqrt(K - 1)\n",
    "            if np.abs(trueth-pt3) < hl3:\n",
    "                ct3 += 1\n",
    "            hl3_list.append(hl3)\n",
    "\n",
    "            # cheap bootstrap\n",
    "            Y = np.zeros((K,))\n",
    "            Y[0] = psi(X)\n",
    "            for k in range(1,K):\n",
    "                Xstar = random.choices(X, k=len(X))\n",
    "                Y[k] = psi(Xstar)\n",
    "            pt4 = Y[0]\n",
    "            S = np.sqrt(np.average(np.power(Y[1:]-pt4,2)))\n",
    "            hl4 = t_quantile * S\n",
    "            if np.abs(trueth-pt4) < hl4:\n",
    "                ct4 += 1\n",
    "            hl4_list.append(hl4)\n",
    "\n",
    "            # glynn's paper\n",
    "            Y = np.zeros((K,))\n",
    "            Y[0] = psi(X)\n",
    "            for k in range(1,K):\n",
    "                Y[k] = psi(X[int((k-1)*(N*(1-gm)/(K-2))) : int(((k-1)*(N*(1-gm)/(K-2)) + gm*N))])\n",
    "            pt5 = Y[0]\n",
    "            S = np.sqrt(1/(1-gm)*gm*N/(K-1)*np.sum(np.power(Y[1:]-Y[0],2)))\n",
    "            hl5 = S/np.sqrt(N)* c_value\n",
    "            if np.abs(trueth-pt5) < hl5:\n",
    "                ct5 += 1\n",
    "            hl5_list.append(hl5)\n",
    "            result_Kg = []\n",
    "        print([ct1, ct2, ct3, ct4, ct5, np.average(hl1_list), np.average(hl2_list), np.average(hl3_list), np.average(hl4_list), np.average(hl5_list)])\n",
    "        result_Kg.append([ct1, ct2, ct3, ct4, ct5, np.average(hl1_list), np.average(hl2_list), np.average(hl3_list), np.average(hl4_list), np.average(hl5_list)])\n",
    "        print('coverage uncertainty')\n",
    "        print([1.96*np.sqrt(x/n_sim*(1-x/n_sim))/np.sqrt(n_sim) for x in [ct1,ct2,ct3,ct4,ct5]])\n",
    "        print('half-length uncertainty')\n",
    "        print([1.96*np.std(x)/np.sqrt(n_sim) for x in [hl1_list,hl2_list,hl3_list,hl4_list,hl5_list]])\n",
    "        result_Kg.append([1.96*np.sqrt(x/n_sim*(1-x/n_sim))/np.sqrt(n_sim) for x in [ct1,ct2,ct3,ct4,ct5]])\n",
    "        result_Kg.append([1.96*np.std(x)/np.sqrt(n_sim) for x in [hl1_list,hl2_list,hl3_list,hl4_list,hl5_list]])\n",
    "        result_K.append(result_Kg)\n",
    "    result.append(result_K)\n"
   ]
  },
  {
   "cell_type": "code",
   "execution_count": null,
   "metadata": {},
   "outputs": [],
   "source": []
  }
 ],
 "metadata": {
  "kernelspec": {
   "display_name": "Python 3",
   "language": "python",
   "name": "python3"
  },
  "language_info": {
   "codemirror_mode": {
    "name": "ipython",
    "version": 3
   },
   "file_extension": ".py",
   "mimetype": "text/x-python",
   "name": "python",
   "nbconvert_exporter": "python",
   "pygments_lexer": "ipython3",
   "version": "3.8.5"
  }
 },
 "nbformat": 4,
 "nbformat_minor": 4
}
